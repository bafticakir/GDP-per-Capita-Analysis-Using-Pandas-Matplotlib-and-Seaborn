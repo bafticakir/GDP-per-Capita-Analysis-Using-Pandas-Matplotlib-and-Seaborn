{
  "cells": [
    {
      "cell_type": "markdown",
      "id": "3f395488",
      "metadata": {
        "id": "3f395488"
      },
      "source": [
        "# Intro to Pandas\n",
        "by Ryan Orsinger"
      ]
    },
    {
      "cell_type": "markdown",
      "id": "2803c8da",
      "metadata": {
        "id": "2803c8da"
      },
      "source": [
        "## Introducing DataFrames\n",
        "\n",
        "### Pandas DataFrames Basics - Part 1\n",
        "- How to make pandas DataFrames from other Python collections\n",
        "- Learning about your dataframe's properties and information\n",
        "- Selecting a single column\n",
        "- Adding new columns to a DataFrame\n",
        "- Renaming columns\n",
        "- Descriptive stats on the columns"
      ]
    },
    {
      "cell_type": "code",
      "execution_count": null,
      "id": "30ad2d93",
      "metadata": {
        "id": "30ad2d93"
      },
      "outputs": [],
      "source": [
        "import pandas as pd"
      ]
    },
    {
      "cell_type": "code",
      "execution_count": null,
      "id": "3f78f0c9",
      "metadata": {
        "id": "3f78f0c9"
      },
      "outputs": [],
      "source": [
        "# Creating a dataframe from a list of dictionaries\n",
        "basket = [\n",
        "    {\"item\": \"mango\", \"quantity\": 4, \"price\": 2.99},\n",
        "    {\"item\": \"bread\", \"quantity\": 2, \"price\": 3.25},\n",
        "    {\"item\": \"juice\", \"quantity\": 1, \"price\": 5.90},\n",
        "    {\"item\": \"orange\", \"quantity\": 3, \"price\": 2.99},\n",
        "    {\"item\": \"lime\", \"quantity\": 3, \"price\": 0.3},\n",
        "]\n",
        "basket"
      ]
    },
    {
      "cell_type": "code",
      "execution_count": null,
      "id": "de47a542",
      "metadata": {
        "id": "de47a542"
      },
      "outputs": [],
      "source": [
        "# With dataframes, our columns are our variables or features\n",
        "# Each row represents a unique observation (usually)\n",
        "df = pd.DataFrame(basket)\n",
        "df"
      ]
    },
    {
      "cell_type": "code",
      "execution_count": null,
      "id": "b1292792",
      "metadata": {
        "id": "b1292792"
      },
      "outputs": [],
      "source": [
        "# Creating a dataframe from a dictionary of lists\n",
        "basket = {\n",
        "    \"item\": [\"mango\", \"bread\", \"juice\", \"orange\", \"lime\"],\n",
        "    \"quantity\": [4, 2, 1, 3, 3],\n",
        "    \"price\": [2.99, 3.25, 5.90, 2.99, 0.30]\n",
        "}\n",
        "basket"
      ]
    },
    {
      "cell_type": "code",
      "execution_count": null,
      "id": "58735ce3",
      "metadata": {
        "id": "58735ce3"
      },
      "outputs": [],
      "source": [
        "pd.DataFrame(basket)"
      ]
    },
    {
      "cell_type": "code",
      "execution_count": null,
      "id": "16868baf",
      "metadata": {
        "id": "16868baf"
      },
      "outputs": [],
      "source": [
        "# Creating a dataframe from a list of lists\n",
        "example = [\n",
        "    [1, 2, 3],\n",
        "    [4, 5, 6],\n",
        "    [7, 8, 9]\n",
        "]\n",
        "\n",
        "column_names = [\"variable_a\", \"variable_b\", \"variable_c\"]\n",
        "row_names = [\"observation_1\", \"observation_2\", \"observation_3\"]\n",
        "\n",
        "pd.DataFrame(example, columns=column_names, index=row_names)"
      ]
    },
    {
      "cell_type": "code",
      "execution_count": null,
      "id": "3491ae56",
      "metadata": {
        "id": "3491ae56"
      },
      "outputs": [],
      "source": [
        "# Creating an empty dataframe\n",
        "df = pd.DataFrame()\n",
        "\n",
        "# Adding columns to a dataframe\n",
        "# Any list-like data type can become a column\n",
        "df[\"item\"] = pd.Series([\"Mango\", \"Bread\", \"Juice\", \"Orange\", \"Lime\"]) #pandas series\n",
        "df[\"quantity\"] = [2, 2, 1, 3, 3] # list\n",
        "df[\"price\"] = (2.99, 3.25, 5.90, 2.99, 0.30) # tuple\n",
        "df"
      ]
    },
    {
      "cell_type": "code",
      "execution_count": null,
      "id": "d10a4b7d",
      "metadata": {
        "id": "d10a4b7d"
      },
      "outputs": [],
      "source": [
        "# .shape returns rows, columns\n",
        "df.shape"
      ]
    },
    {
      "cell_type": "code",
      "execution_count": null,
      "id": "2022035a",
      "metadata": {
        "id": "2022035a"
      },
      "outputs": [],
      "source": [
        "# Returns the rows\n",
        "df.shape[0]"
      ]
    },
    {
      "cell_type": "code",
      "execution_count": null,
      "id": "609cdcb5",
      "metadata": {
        "id": "609cdcb5"
      },
      "outputs": [],
      "source": [
        "# Returns the number of columns\n",
        "df.shape[1]"
      ]
    },
    {
      "cell_type": "code",
      "execution_count": null,
      "id": "cf2e6fcd",
      "metadata": {
        "id": "cf2e6fcd"
      },
      "outputs": [],
      "source": [
        "# len returns number of rows\n",
        "len(df)"
      ]
    },
    {
      "cell_type": "code",
      "execution_count": null,
      "id": "edc6c56e",
      "metadata": {
        "id": "edc6c56e"
      },
      "outputs": [],
      "source": [
        "# size returns rows * columns\n",
        "df.size\n",
        "# 5 * 3 = 15"
      ]
    },
    {
      "cell_type": "code",
      "execution_count": null,
      "id": "aac8d0e7",
      "metadata": {
        "id": "aac8d0e7"
      },
      "outputs": [],
      "source": [
        "# Adding new columns to the dataframe\n",
        "df[\"subtotal\"] = df[\"quantity\"] * df[\"price\"]\n",
        "df"
      ]
    },
    {
      "cell_type": "code",
      "execution_count": null,
      "id": "054bc713",
      "metadata": {
        "id": "054bc713"
      },
      "outputs": [],
      "source": [
        "# set_index can overwrite the default index\n",
        "df.set_index(\"item\", inplace=True)\n",
        "df"
      ]
    },
    {
      "cell_type": "code",
      "execution_count": null,
      "id": "c599c8eb",
      "metadata": {
        "id": "c599c8eb"
      },
      "outputs": [],
      "source": [
        "# Accessing the index values\n",
        "df.index"
      ]
    },
    {
      "cell_type": "code",
      "execution_count": null,
      "id": "99349263",
      "metadata": {
        "id": "99349263"
      },
      "outputs": [],
      "source": [
        "# We can also overwrite the index with a Series of equal length\n",
        "df.index = df.index.str.lower()\n",
        "df"
      ]
    },
    {
      "cell_type": "code",
      "execution_count": null,
      "id": "76e1132c",
      "metadata": {
        "id": "76e1132c"
      },
      "outputs": [],
      "source": [
        "# Accessing all the columns\n",
        "df.columns"
      ]
    },
    {
      "cell_type": "code",
      "execution_count": null,
      "id": "2f3993ac",
      "metadata": {
        "id": "2f3993ac"
      },
      "outputs": [],
      "source": [
        "# Another example of creating a new column\n",
        "df[\"tax\"] = 0.07\n",
        "df"
      ]
    },
    {
      "cell_type": "code",
      "execution_count": null,
      "id": "48831344",
      "metadata": {
        "id": "48831344"
      },
      "outputs": [],
      "source": [
        "# The \"total cost\" column does not exist, but this bracket syntax creates it.\n",
        "df[\"total cost\"] = df[\"subtotal\"] + (df[\"subtotal\"] * df[\"tax\"])\n",
        "df"
      ]
    },
    {
      "cell_type": "code",
      "execution_count": null,
      "id": "89e429b8",
      "metadata": {
        "id": "89e429b8"
      },
      "outputs": [],
      "source": [
        "# Dot syntax also allows for calling an existing column\n",
        "# Using .column syntax only works if the column exists already, has no spaces, and is not a dataframe method already\n",
        "df.price"
      ]
    },
    {
      "cell_type": "code",
      "execution_count": null,
      "id": "3bfc453d-6fb3-4e12-83fd-9dc5d673e322",
      "metadata": {
        "id": "3bfc453d-6fb3-4e12-83fd-9dc5d673e322"
      },
      "outputs": [],
      "source": [
        "df.subtotal"
      ]
    },
    {
      "cell_type": "code",
      "execution_count": null,
      "id": "5fc9b9b2",
      "metadata": {
        "id": "5fc9b9b2"
      },
      "outputs": [],
      "source": [
        "# .dtypes outputs the datatypes of all columns in the dataframe\n",
        "df.dtypes"
      ]
    },
    {
      "cell_type": "code",
      "execution_count": null,
      "id": "42a266de",
      "metadata": {
        "id": "42a266de"
      },
      "outputs": [],
      "source": [
        "# .info returns datatype and non-null count\n",
        "df.info()"
      ]
    },
    {
      "cell_type": "code",
      "execution_count": null,
      "id": "32df1baa",
      "metadata": {
        "id": "32df1baa"
      },
      "outputs": [],
      "source": [
        "df.price.describe()\n",
        "# 25% 1st quarter\n",
        "# 75% 3rd querter\n",
        "# 50% median\n",
        "# std = standart deviation"
      ]
    },
    {
      "cell_type": "code",
      "execution_count": null,
      "id": "08cbabc4-9244-474b-9f0f-1b13b0ea267f",
      "metadata": {
        "id": "08cbabc4-9244-474b-9f0f-1b13b0ea267f"
      },
      "outputs": [],
      "source": [
        "df.price"
      ]
    },
    {
      "cell_type": "code",
      "execution_count": null,
      "id": "a30fc88f",
      "metadata": {
        "id": "a30fc88f"
      },
      "outputs": [],
      "source": [
        "# Show descriptive stats for numeric columns\n",
        "df.describe()"
      ]
    },
    {
      "cell_type": "code",
      "execution_count": null,
      "id": "a68bd228",
      "metadata": {
        "id": "a68bd228"
      },
      "outputs": [],
      "source": [
        "# A column in a dataframe is a series\n",
        "type(df.quantity)"
      ]
    },
    {
      "cell_type": "code",
      "execution_count": null,
      "id": "302b7fb7",
      "metadata": {
        "id": "302b7fb7"
      },
      "outputs": [],
      "source": [
        "# .value_counts returns a series\n",
        "df.quantity.value_counts()"
      ]
    },
    {
      "cell_type": "code",
      "execution_count": null,
      "id": "32c5003b",
      "metadata": {
        "id": "32c5003b"
      },
      "outputs": [],
      "source": [
        "# Aggregate functions can run on all the numeric values in the dataframe\n",
        "df.mean()"
      ]
    },
    {
      "cell_type": "code",
      "execution_count": null,
      "id": "a34b3597",
      "metadata": {
        "id": "a34b3597"
      },
      "outputs": [],
      "source": [
        "# Obtain the median of all numeric columns\n",
        "df.median()"
      ]
    },
    {
      "cell_type": "code",
      "execution_count": null,
      "id": "9ba2daf1",
      "metadata": {
        "id": "9ba2daf1"
      },
      "outputs": [],
      "source": [
        "# Standard deviation of all the numeric columns\n",
        "df.std()"
      ]
    },
    {
      "cell_type": "code",
      "execution_count": null,
      "id": "2882d338",
      "metadata": {
        "id": "2882d338"
      },
      "outputs": [],
      "source": [
        "# The square bracket syntax can be used to access column names with spaces\n",
        "# Same with column names that are methods on the dataframe object\n",
        "# Recommend avoiding column names with spaces, removing spaces when you encounter them\n",
        "# Recommend avoiding naming columns after dataframe method\n",
        "df[\"shape\"] = [\"round\", \"loaf\", \"jug\", \"round\", \"round\"]\n",
        "df"
      ]
    },
    {
      "cell_type": "code",
      "execution_count": null,
      "id": "fed7bb27",
      "metadata": {
        "id": "fed7bb27"
      },
      "outputs": [],
      "source": [
        "# Remember that the .shape attribute shows # rows, #columns\n",
        "df.shape"
      ]
    },
    {
      "cell_type": "code",
      "execution_count": null,
      "id": "966087d2",
      "metadata": {
        "id": "966087d2"
      },
      "outputs": [],
      "source": [
        "# The bracket quote syntax returns the column\n",
        "df[\"shape\"]"
      ]
    },
    {
      "cell_type": "code",
      "execution_count": null,
      "id": "e4dd538e",
      "metadata": {
        "id": "e4dd538e"
      },
      "outputs": [],
      "source": [
        "# Naming columns the same as built-in dataframe methods and spaces in column names are not helpful\n",
        "# .rename allows for renaming columns in a dataframe using a dictionary\n",
        "df.rename(columns={\"shape\": \"item_shape\", \"total cost\": \"total\"}, inplace=True)\n",
        "df"
      ]
    },
    {
      "cell_type": "markdown",
      "id": "0e5976e6",
      "metadata": {
        "id": "0e5976e6"
      },
      "source": [
        "## Exercises\n",
        "- Assign dataframe named `df` out of the following list of dictionaries.\n",
        "```\n",
        "items = [\n",
        "    {\"item name\": \"USB cable\", \"price\": \"$10.99\", \"type\": \"USB C to USB C\"},\n",
        "    {\"item name\": \"USB cable\", \"price\": \"$10.99\", \"type\": \"USB A to USB C\"},\n",
        "    {\"item name\": \"Batteries\", \"price\": \"$9.99\", \"type\": \"AA\"},\n",
        "    {\"item name\": \"Batteries\", \"price\": \"$8.99\", \"type\": \"AAA\"},\n",
        "    {\"item name\": \"Mouse\", \"price\": \"$12.99\", \"type\": \"Wireless USB\"},\n",
        "]\n",
        "```\n",
        "- Rename the `item name` column to `item_name`\n",
        "- Add a column named `units_sold` to this dataframe and assign the values `[41, 113, 54, 35, 22]`\n",
        "- Convert the price column into a float (hint: remove non-numeric characters before attempting to convert the data type to a float)\n",
        "- Create a new column named `total_revenue` that holds the `price` column times the `units_sold` column\n",
        "- Round the `total_revenue` column values to the nearest whole number. (hint: search or consult the pandas documentation"
      ]
    },
    {
      "cell_type": "code",
      "execution_count": null,
      "id": "ebbe0e53-a18f-44b0-8dcf-583c8a4a77d2",
      "metadata": {
        "id": "ebbe0e53-a18f-44b0-8dcf-583c8a4a77d2"
      },
      "outputs": [],
      "source": [
        "import pandas as pd"
      ]
    },
    {
      "cell_type": "code",
      "execution_count": null,
      "id": "ced77590",
      "metadata": {
        "id": "ced77590"
      },
      "outputs": [],
      "source": [
        "# Assign dataframe named `df` out of the following list of dictionaries\n"
      ]
    },
    {
      "cell_type": "code",
      "execution_count": null,
      "id": "c295cbbe",
      "metadata": {
        "id": "c295cbbe"
      },
      "outputs": [],
      "source": [
        "# Rename the item name column to item_name\n"
      ]
    },
    {
      "cell_type": "code",
      "execution_count": null,
      "id": "1cf96712",
      "metadata": {
        "id": "1cf96712"
      },
      "outputs": [],
      "source": [
        "# Add a column named units_sold to this dataframe and assign the values [41, 113, 54, 35, 22]\n"
      ]
    },
    {
      "cell_type": "code",
      "execution_count": null,
      "id": "c8d2ec24",
      "metadata": {
        "id": "c8d2ec24"
      },
      "outputs": [],
      "source": [
        "# Convert the price column into a float data type. First replace $ and then convert to folat.\n"
      ]
    },
    {
      "cell_type": "code",
      "execution_count": null,
      "id": "fbc9017a",
      "metadata": {
        "id": "fbc9017a"
      },
      "outputs": [],
      "source": [
        "# Create a new column named \"total_revenue\" that holds the `price` column times the `units_sold` column\n"
      ]
    },
    {
      "cell_type": "code",
      "execution_count": null,
      "id": "d0737961",
      "metadata": {
        "id": "d0737961"
      },
      "outputs": [],
      "source": [
        "# Round the total_revenue column values to the nearest whole number.\n"
      ]
    },
    {
      "cell_type": "code",
      "execution_count": null,
      "id": "a1851c0e-6ce9-4ed2-bd83-af084eb083eb",
      "metadata": {
        "id": "a1851c0e-6ce9-4ed2-bd83-af084eb083eb"
      },
      "outputs": [],
      "source": [
        "# export file in csv\n"
      ]
    },
    {
      "cell_type": "code",
      "execution_count": null,
      "id": "31f38c18-22a9-480f-9afb-31a31a92b131",
      "metadata": {
        "id": "31f38c18-22a9-480f-9afb-31a31a92b131"
      },
      "outputs": [],
      "source": [
        "# export file in excel\n"
      ]
    }
  ],
  "metadata": {
    "kernelspec": {
      "display_name": "Python 3 (ipykernel)",
      "language": "python",
      "name": "python3"
    },
    "language_info": {
      "codemirror_mode": {
        "name": "ipython",
        "version": 3
      },
      "file_extension": ".py",
      "mimetype": "text/x-python",
      "name": "python",
      "nbconvert_exporter": "python",
      "pygments_lexer": "ipython3",
      "version": "3.12.4"
    },
    "colab": {
      "provenance": []
    }
  },
  "nbformat": 4,
  "nbformat_minor": 5
}